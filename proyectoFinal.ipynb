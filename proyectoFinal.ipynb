{
 "cells": [
  {
   "cell_type": "markdown",
   "id": "1069a6cf",
   "metadata": {},
   "source": [
    "# PROYECTO 1\n",
    "\n",
    "Boris Castellanos - 201822683  \n",
    "Carlos Patiño - 201624070  \n",
    "Joshua Olave - 201821591\n"
   ]
  },
  {
   "cell_type": "markdown",
   "id": "4d0cb8e3",
   "metadata": {},
   "source": [
    "## 1. Analisis y descripción de los datos"
   ]
  },
  {
   "cell_type": "code",
   "execution_count": 1,
   "id": "abaf74af-c1da-44c2-a411-7bd1184dd74e",
   "metadata": {},
   "outputs": [],
   "source": [
    "#IMPORTS\n",
    "import pandas as pd\n",
    "import numpy as np\n",
    "import matplotlib.pyplot as plt\n",
    "import seaborn as sns; sns.set()\n",
    "\n",
    "from sklearn.cluster import KMeans\n",
    "from sklearn.tree import DecisionTreeClassifier\n",
    "from sklearn.neighbors import KNeighborsClassifier\n",
    "from sklearn.feature_extraction.text import CountVectorizer\n",
    "from sklearn.preprocessing import StandardScaler, MinMaxScaler\n",
    "from sklearn.model_selection import GridSearchCV, KFold, train_test_split\n",
    "from sklearn.metrics import confusion_matrix, classification_report, precision_score, recall_score, f1_score, accuracy_score, silhouette_samples, silhouette_score, plot_confusion_matrix\n",
    "# Regresion lineal\n",
    "from sklearn.linear_model import LinearRegression\n",
    "\n",
    "# Composicion de pipelines\n",
    "from sklearn.compose import ColumnTransformer\n",
    "from sklearn.pipeline import Pipeline\n",
    "from sklearn.impute import SimpleImputer\n",
    "from sklearn.preprocessing import PolynomialFeatures\n",
    "from sklearn.preprocessing import MinMaxScaler\n",
    "\n",
    "\n",
    "from matplotlib import cm\n",
    "from mpl_toolkits.mplot3d import Axes3D"
   ]
  },
  {
   "cell_type": "code",
   "execution_count": 2,
   "id": "f4936df7",
   "metadata": {},
   "outputs": [
    {
     "data": {
      "text/plain": [
       "(16000, 2)"
      ]
     },
     "execution_count": 2,
     "metadata": {},
     "output_type": "execute_result"
    }
   ],
   "source": [
    "#DATABASE LOCATION\n",
    "df_tracks = pd.read_csv('train.txt', sep=';', names=[\"Comment\", \"Feeling\"])\n",
    "\n",
    "#ROWS AND COLUMNS\n",
    "df_tracks.shape"
   ]
  },
  {
   "cell_type": "code",
   "execution_count": 3,
   "id": "002b7ce6-dc05-4815-811f-4f094db3cd22",
   "metadata": {
    "scrolled": true
   },
   "outputs": [
    {
     "data": {
      "text/html": [
       "<div>\n",
       "<style scoped>\n",
       "    .dataframe tbody tr th:only-of-type {\n",
       "        vertical-align: middle;\n",
       "    }\n",
       "\n",
       "    .dataframe tbody tr th {\n",
       "        vertical-align: top;\n",
       "    }\n",
       "\n",
       "    .dataframe thead th {\n",
       "        text-align: right;\n",
       "    }\n",
       "</style>\n",
       "<table border=\"1\" class=\"dataframe\">\n",
       "  <thead>\n",
       "    <tr style=\"text-align: right;\">\n",
       "      <th></th>\n",
       "      <th>Comment</th>\n",
       "      <th>Feeling</th>\n",
       "    </tr>\n",
       "  </thead>\n",
       "  <tbody>\n",
       "    <tr>\n",
       "      <th>0</th>\n",
       "      <td>i didnt feel humiliated</td>\n",
       "      <td>sadness</td>\n",
       "    </tr>\n",
       "    <tr>\n",
       "      <th>1</th>\n",
       "      <td>i can go from feeling so hopeless to so damned...</td>\n",
       "      <td>sadness</td>\n",
       "    </tr>\n",
       "    <tr>\n",
       "      <th>2</th>\n",
       "      <td>im grabbing a minute to post i feel greedy wrong</td>\n",
       "      <td>anger</td>\n",
       "    </tr>\n",
       "    <tr>\n",
       "      <th>3</th>\n",
       "      <td>i am ever feeling nostalgic about the fireplac...</td>\n",
       "      <td>love</td>\n",
       "    </tr>\n",
       "    <tr>\n",
       "      <th>4</th>\n",
       "      <td>i am feeling grouchy</td>\n",
       "      <td>anger</td>\n",
       "    </tr>\n",
       "  </tbody>\n",
       "</table>\n",
       "</div>"
      ],
      "text/plain": [
       "                                             Comment  Feeling\n",
       "0                            i didnt feel humiliated  sadness\n",
       "1  i can go from feeling so hopeless to so damned...  sadness\n",
       "2   im grabbing a minute to post i feel greedy wrong    anger\n",
       "3  i am ever feeling nostalgic about the fireplac...     love\n",
       "4                               i am feeling grouchy    anger"
      ]
     },
     "metadata": {},
     "output_type": "display_data"
    }
   ],
   "source": [
    "#DISPLAY DATA IN TABLE\n",
    "display(df_tracks.head(5))"
   ]
  },
  {
   "cell_type": "code",
   "execution_count": 4,
   "id": "f7e94224",
   "metadata": {
    "scrolled": true
   },
   "outputs": [
    {
     "data": {
      "text/plain": [
       "Comment    object\n",
       "Feeling    object\n",
       "dtype: object"
      ]
     },
     "execution_count": 4,
     "metadata": {},
     "output_type": "execute_result"
    }
   ],
   "source": [
    "#DATA TYPE DESCRIPTION\n",
    "df_tracks.dtypes"
   ]
  },
  {
   "cell_type": "code",
   "execution_count": 5,
   "id": "5ba0b191",
   "metadata": {},
   "outputs": [
    {
     "data": {
      "text/html": [
       "<div>\n",
       "<style scoped>\n",
       "    .dataframe tbody tr th:only-of-type {\n",
       "        vertical-align: middle;\n",
       "    }\n",
       "\n",
       "    .dataframe tbody tr th {\n",
       "        vertical-align: top;\n",
       "    }\n",
       "\n",
       "    .dataframe thead th {\n",
       "        text-align: right;\n",
       "    }\n",
       "</style>\n",
       "<table border=\"1\" class=\"dataframe\">\n",
       "  <thead>\n",
       "    <tr style=\"text-align: right;\">\n",
       "      <th></th>\n",
       "      <th>0</th>\n",
       "    </tr>\n",
       "  </thead>\n",
       "  <tbody>\n",
       "    <tr>\n",
       "      <th>Comment</th>\n",
       "      <td>0.0</td>\n",
       "    </tr>\n",
       "    <tr>\n",
       "      <th>Feeling</th>\n",
       "      <td>0.0</td>\n",
       "    </tr>\n",
       "  </tbody>\n",
       "</table>\n",
       "</div>"
      ],
      "text/plain": [
       "           0\n",
       "Comment  0.0\n",
       "Feeling  0.0"
      ]
     },
     "execution_count": 5,
     "metadata": {},
     "output_type": "execute_result"
    }
   ],
   "source": [
    "#EMPTY DATA\n",
    "df_porcentajes = (100*df_tracks.isna().sum()/len(df_tracks)).to_frame()\n",
    "df_porcentajes.sort_values(0, ascending = False)"
   ]
  },
  {
   "cell_type": "code",
   "execution_count": 6,
   "id": "47254446",
   "metadata": {},
   "outputs": [
    {
     "data": {
      "text/plain": [
       "Comment    0\n",
       "Feeling    0\n",
       "dtype: int64"
      ]
     },
     "execution_count": 6,
     "metadata": {},
     "output_type": "execute_result"
    }
   ],
   "source": [
    "#CHECK FOR NULLS\n",
    "df_tracks.isnull().sum()"
   ]
  },
  {
   "cell_type": "code",
   "execution_count": 7,
   "id": "b166e477",
   "metadata": {},
   "outputs": [
    {
     "data": {
      "text/plain": [
       "joy         5362\n",
       "sadness     4666\n",
       "anger       2159\n",
       "fear        1937\n",
       "love        1304\n",
       "surprise     572\n",
       "Name: Feeling, dtype: int64"
      ]
     },
     "execution_count": 7,
     "metadata": {},
     "output_type": "execute_result"
    }
   ],
   "source": [
    "#COUNT OF FEELINGS\n",
    "df_tracks['Feeling'].value_counts()"
   ]
  },
  {
   "cell_type": "code",
   "execution_count": 8,
   "id": "099656d2-f3ff-4675-9737-cf887eea26ff",
   "metadata": {},
   "outputs": [
    {
     "data": {
      "image/png": "[encoded data removed]",
      "text/plain": [
       "<Figure size 432x288 with 1 Axes>"
      ]
     },
     "metadata": {},
     "output_type": "display_data"
    }
   ],
   "source": [
    "#COUNT OF FEELINGS PLOT\n",
    "ax = sns.countplot(x='Feeling', data=df_tracks)\n",
    "plt.show()"
   ]
  },
  {
   "cell_type": "markdown",
   "id": "28c4063a",
   "metadata": {},
   "source": [
    "## 2. Limpieza y preparación de los datos"
   ]
  },
  {
   "cell_type": "code",
   "execution_count": 9,
   "id": "94628038",
   "metadata": {},
   "outputs": [],
   "source": [
    "#COPY FOR TRANSFORM DATA\n",
    "df_tracks_t = df_tracks"
   ]
  },
  {
   "cell_type": "code",
   "execution_count": 10,
   "id": "711cf0a6",
   "metadata": {},
   "outputs": [
    {
     "data": {
      "text/html": [
       "<div>\n",
       "<style scoped>\n",
       "    .dataframe tbody tr th:only-of-type {\n",
       "        vertical-align: middle;\n",
       "    }\n",
       "\n",
       "    .dataframe tbody tr th {\n",
       "        vertical-align: top;\n",
       "    }\n",
       "\n",
       "    .dataframe thead th {\n",
       "        text-align: right;\n",
       "    }\n",
       "</style>\n",
       "<table border=\"1\" class=\"dataframe\">\n",
       "  <thead>\n",
       "    <tr style=\"text-align: right;\">\n",
       "      <th></th>\n",
       "      <th>Comment</th>\n",
       "      <th>Feeling</th>\n",
       "    </tr>\n",
       "  </thead>\n",
       "  <tbody>\n",
       "    <tr>\n",
       "      <th>0</th>\n",
       "      <td>i didnt feel humiliated</td>\n",
       "      <td>1</td>\n",
       "    </tr>\n",
       "    <tr>\n",
       "      <th>1</th>\n",
       "      <td>i can go from feeling so hopeless to so damned...</td>\n",
       "      <td>1</td>\n",
       "    </tr>\n",
       "    <tr>\n",
       "      <th>2</th>\n",
       "      <td>im grabbing a minute to post i feel greedy wrong</td>\n",
       "      <td>4</td>\n",
       "    </tr>\n",
       "    <tr>\n",
       "      <th>3</th>\n",
       "      <td>i am ever feeling nostalgic about the fireplac...</td>\n",
       "      <td>5</td>\n",
       "    </tr>\n",
       "    <tr>\n",
       "      <th>4</th>\n",
       "      <td>i am feeling grouchy</td>\n",
       "      <td>4</td>\n",
       "    </tr>\n",
       "  </tbody>\n",
       "</table>\n",
       "</div>"
      ],
      "text/plain": [
       "                                             Comment  Feeling\n",
       "0                            i didnt feel humiliated        1\n",
       "1  i can go from feeling so hopeless to so damned...        1\n",
       "2   im grabbing a minute to post i feel greedy wrong        4\n",
       "3  i am ever feeling nostalgic about the fireplac...        5\n",
       "4                               i am feeling grouchy        4"
      ]
     },
     "execution_count": 10,
     "metadata": {},
     "output_type": "execute_result"
    }
   ],
   "source": [
    "#MODI\n",
    "def Feeling (row):\n",
    "    if row['Feeling'] == 'sadness':\n",
    "        return 1\n",
    "    elif row['Feeling'] == 'joy':\n",
    "        return 2\n",
    "    elif row['Feeling'] == 'fear':\n",
    "        return 3\n",
    "    elif row['Feeling'] == 'anger':\n",
    "        return 4\n",
    "    elif row['Feeling'] == 'love':\n",
    "        return 5\n",
    "    elif row['Feeling'] == 'surprise':\n",
    "        return 6\n",
    "    return 0\n",
    "df_tracks_t['Feeling'] = df_tracks_t.apply (lambda row: Feeling(row), axis=1)\n",
    "df_tracks_t.head()"
   ]
  },
  {
   "cell_type": "code",
   "execution_count": 11,
   "id": "9bcb8287",
   "metadata": {},
   "outputs": [
    {
     "data": {
      "text/plain": [
       "2    5362\n",
       "1    4666\n",
       "4    2159\n",
       "3    1937\n",
       "5    1304\n",
       "6     572\n",
       "Name: Feeling, dtype: int64"
      ]
     },
     "execution_count": 11,
     "metadata": {},
     "output_type": "execute_result"
    }
   ],
   "source": [
    "df_tracks['Feeling'].value_counts()"
   ]
  },
  {
   "cell_type": "code",
   "execution_count": 12,
   "id": "bb2fc2cf-8af4-494b-92ec-17a6c5692222",
   "metadata": {},
   "outputs": [],
   "source": [
    "#COPY FOR MODELS\n",
    "df_tracks_m1 = df_tracks_t"
   ]
  },
  {
   "cell_type": "code",
   "execution_count": 13,
   "id": "4e539963",
   "metadata": {},
   "outputs": [],
   "source": [
    "#PREPARE OBJETIVE VARIABLE\n",
    "Y = df_tracks_m1['Feeling']\n",
    "X = CountVectorizer().fit_transform(df_tracks_m1['Comment'])"
   ]
  },
  {
   "cell_type": "code",
   "execution_count": 14,
   "id": "3645c25f",
   "metadata": {},
   "outputs": [],
   "source": [
    "#DIVIDE DATA FOR TEST AND TRAIN\n",
    "X_train, X_test, Y_train, Y_test = train_test_split(X, Y, test_size=0.2, random_state=0)\n",
    "particiones = KFold(n_splits=10, shuffle=True, random_state = 0)"
   ]
  },
  {
   "cell_type": "markdown",
   "id": "312287f6",
   "metadata": {},
   "source": [
    "## 3. Construcción del modelos"
   ]
  },
  {
   "cell_type": "markdown",
   "id": "84b9be07",
   "metadata": {},
   "source": [
    "### 3.1. KNN"
   ]
  },
  {
   "cell_type": "code",
   "execution_count": 15,
   "id": "a052b2f9",
   "metadata": {},
   "outputs": [
    {
     "name": "stdout",
     "output_type": "stream",
     "text": [
      "Mejor parámetro: {'n_neighbors': 8, 'p': 1}\n",
      "Mejor cross-validation score: 0.43\n"
     ]
    }
   ],
   "source": [
    "#DEFINING RANGE OF NEIGHBORS GETTING BEST MODEL\n",
    "n_vecinos =  list(range(1,11))\n",
    "param_grid = {'n_neighbors': n_vecinos, 'p': [1, 2]}\n",
    "clasificadorKNN = KNeighborsClassifier()\n",
    "modelo_Knn = GridSearchCV(clasificadorKNN, param_grid, cv=particiones)\n",
    "modelo_Knn.fit(X_train,Y_train) \n",
    "print(\"Mejor parámetro: {}\".format(modelo_Knn.best_params_)) \n",
    "print(\"Mejor cross-validation score: {:.2f}\".format(modelo_Knn.best_score_))"
   ]
  },
  {
   "cell_type": "code",
   "execution_count": 16,
   "id": "a14a4d1a",
   "metadata": {
    "scrolled": true
   },
   "outputs": [
    {
     "name": "stdout",
     "output_type": "stream",
     "text": [
      "Exactitud sobre entrenamiento: 0.58\n",
      "Exactitud sobre test: 0.43\n"
     ]
    }
   ],
   "source": [
    "#RUNNING OVER TEST DATA\n",
    "modelo_final = modelo_Knn.best_estimator_\n",
    "y_pred_train = modelo_final.predict(X_train)\n",
    "y_pred_test = modelo_final.predict(X_test)\n",
    "print('Exactitud sobre entrenamiento: %.2f' % accuracy_score(Y_train, y_pred_train))\n",
    "print('Exactitud sobre test: %.2f' % accuracy_score(Y_test, y_pred_test))"
   ]
  },
  {
   "cell_type": "code",
   "execution_count": 17,
   "id": "4ce7a663",
   "metadata": {
    "scrolled": true
   },
   "outputs": [
    {
     "name": "stdout",
     "output_type": "stream",
     "text": [
      "              precision    recall  f1-score   support\n",
      "\n",
      "           1       0.40      0.75      0.52       905\n",
      "           2       0.48      0.51      0.50      1053\n",
      "           3       0.47      0.17      0.25       397\n",
      "           4       0.45      0.19      0.27       459\n",
      "           5       0.60      0.08      0.14       271\n",
      "           6       0.50      0.02      0.03       115\n",
      "\n",
      "    accuracy                           0.43      3200\n",
      "   macro avg       0.48      0.29      0.28      3200\n",
      "weighted avg       0.46      0.43      0.39      3200\n",
      "\n"
     ]
    }
   ],
   "source": [
    "#CLASSIFICATION REPOR OVER TEST\n",
    "print(classification_report(Y_test, y_pred_test))"
   ]
  },
  {
   "cell_type": "code",
   "execution_count": 18,
   "id": "c02ddf10",
   "metadata": {},
   "outputs": [
    {
     "name": "stdout",
     "output_type": "stream",
     "text": [
      "              precision    recall  f1-score   support\n",
      "\n",
      "           1       0.50      0.86      0.64      3761\n",
      "           2       0.63      0.67      0.65      4309\n",
      "           3       0.70      0.31      0.43      1540\n",
      "           4       0.67      0.36      0.46      1700\n",
      "           5       0.78      0.14      0.23      1033\n",
      "           6       0.84      0.11      0.19       457\n",
      "\n",
      "    accuracy                           0.58     12800\n",
      "   macro avg       0.69      0.41      0.43     12800\n",
      "weighted avg       0.63      0.58      0.54     12800\n",
      "\n"
     ]
    }
   ],
   "source": [
    "#CLASSIFICATION REPOR OVER TRAIN\n",
    "print(classification_report(Y_train, y_pred_train))"
   ]
  },
  {
   "cell_type": "markdown",
   "id": "d41729c3",
   "metadata": {},
   "source": [
    "### 3.2 Árbol de decisión"
   ]
  },
  {
   "cell_type": "code",
   "execution_count": 20,
   "id": "cf6426da",
   "metadata": {},
   "outputs": [
    {
     "data": {
      "text/plain": [
       "GridSearchCV(cv=KFold(n_splits=10, random_state=0, shuffle=True),\n",
       "             estimator=DecisionTreeClassifier(random_state=0),\n",
       "             param_grid={'criterion': ['gini', 'entropy'],\n",
       "                         'max_depth': [4, 6, 8, 10, 20],\n",
       "                         'min_samples_split': [2, 3, 4, 5]})"
      ]
     },
     "execution_count": 20,
     "metadata": {},
     "output_type": "execute_result"
    }
   ],
   "source": [
    "#CREATION OF TREE, USING K PARTITIONS FOR FIND THE BEST OPTION\n",
    "param_grid = {'criterion':['gini', 'entropy'],'max_depth':[4,6,8,10,20],'min_samples_split':[2, 3, 4, 5]}\n",
    "arbol = DecisionTreeClassifier(random_state=0)\n",
    "mejor_modelo = GridSearchCV(arbol, param_grid, cv=particiones)\n",
    "mejor_modelo.fit(X_train, Y_train)"
   ]
  },
  {
   "cell_type": "code",
   "execution_count": null,
   "id": "050fd1b5",
   "metadata": {},
   "outputs": [],
   "source": [
    "mejor_modelo.best_params_"
   ]
  },
  {
   "cell_type": "code",
   "execution_count": null,
   "id": "2b39dbf8",
   "metadata": {},
   "outputs": [],
   "source": [
    "#RUNNING OVER TRAIN AND TEST\n",
    "arbol_final = mejor_modelo.best_estimator_\n",
    "y_pred_train = arbol_final.predict(X_train)\n",
    "y_pred_test = arbol_final.predict(X_test)"
   ]
  },
  {
   "cell_type": "code",
   "execution_count": null,
   "id": "c3d82a29",
   "metadata": {},
   "outputs": [],
   "source": [
    "#SHOW CONFUSION MATRIX\n",
    "plot_confusion_matrix(arbol_final, X_test, Y_test)\n",
    "plt.show()"
   ]
  },
  {
   "cell_type": "code",
   "execution_count": null,
   "id": "785aa0c5",
   "metadata": {},
   "outputs": [],
   "source": [
    "#REPORT\n",
    "print(classification_report(Y_test, y_pred_test))"
   ]
  },
  {
   "cell_type": "markdown",
   "id": "5679ba83-f1c2-4774-8465-33eadccf920e",
   "metadata": {},
   "source": [
    "### 3.3 Regresion Logistica\n"
   ]
  },
  {
   "cell_type": "code",
   "execution_count": null,
   "id": "ca455354-a007-4acb-aca7-90b3123725c2",
   "metadata": {},
   "outputs": [],
   "source": []
  }
 ],
 "metadata": {
  "kernelspec": {
   "display_name": "Python 3",
   "language": "python",
   "name": "python3"
  },
  "language_info": {
   "codemirror_mode": {
    "name": "ipython",
    "version": 3
   },
   "file_extension": ".py",
   "mimetype": "text/x-python",
   "name": "python",
   "nbconvert_exporter": "python",
   "pygments_lexer": "ipython3",
   "version": "3.8.8"
  }
 },
 "nbformat": 4,
 "nbformat_minor": 5
}
